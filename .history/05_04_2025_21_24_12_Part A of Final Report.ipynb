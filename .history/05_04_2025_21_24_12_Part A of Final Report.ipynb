{
 "cells": [
  {
   "cell_type": "markdown",
   "id": "fc5f92c4-a4ba-462c-be2f-4eceea6a017f",
   "metadata": {},
   "source": [
    "# Part A of Final Report"
   ]
  },
  {
   "cell_type": "markdown",
   "id": "dbf336d2-9d9d-49f3-a2b3-8c73b237d8a3",
   "metadata": {},
   "source": [
    "## A) Data"
   ]
  },
  {
   "cell_type": "code",
   "execution_count": 1,
   "id": "c2c08ab0-c7c5-40bc-ba60-2cb80c01022c",
   "metadata": {},
   "outputs": [
    {
     "data": {
      "text/html": [
       "<table class=\"dataframe\">\n",
       "<caption>A data.frame: 6 × 7</caption>\n",
       "<thead>\n",
       "\t<tr><th></th><th scope=col>total_bill</th><th scope=col>tip</th><th scope=col>sex</th><th scope=col>smoker</th><th scope=col>day</th><th scope=col>time</th><th scope=col>size</th></tr>\n",
       "\t<tr><th></th><th scope=col>&lt;dbl&gt;</th><th scope=col>&lt;dbl&gt;</th><th scope=col>&lt;chr&gt;</th><th scope=col>&lt;chr&gt;</th><th scope=col>&lt;chr&gt;</th><th scope=col>&lt;chr&gt;</th><th scope=col>&lt;int&gt;</th></tr>\n",
       "</thead>\n",
       "<tbody>\n",
       "\t<tr><th scope=row>1</th><td>16.99</td><td>1.01</td><td>Female</td><td>No</td><td>Sun</td><td>Dinner</td><td>2</td></tr>\n",
       "\t<tr><th scope=row>2</th><td>10.34</td><td>1.66</td><td>Male  </td><td>No</td><td>Sun</td><td>Dinner</td><td>3</td></tr>\n",
       "\t<tr><th scope=row>3</th><td>21.01</td><td>3.50</td><td>Male  </td><td>No</td><td>Sun</td><td>Dinner</td><td>3</td></tr>\n",
       "\t<tr><th scope=row>4</th><td>23.68</td><td>3.31</td><td>Male  </td><td>No</td><td>Sun</td><td>Dinner</td><td>2</td></tr>\n",
       "\t<tr><th scope=row>5</th><td>24.59</td><td>3.61</td><td>Female</td><td>No</td><td>Sun</td><td>Dinner</td><td>4</td></tr>\n",
       "\t<tr><th scope=row>6</th><td>25.29</td><td>4.71</td><td>Male  </td><td>No</td><td>Sun</td><td>Dinner</td><td>4</td></tr>\n",
       "</tbody>\n",
       "</table>\n"
      ],
      "text/latex": [
       "A data.frame: 6 × 7\n",
       "\\begin{tabular}{r|lllllll}\n",
       "  & total\\_bill & tip & sex & smoker & day & time & size\\\\\n",
       "  & <dbl> & <dbl> & <chr> & <chr> & <chr> & <chr> & <int>\\\\\n",
       "\\hline\n",
       "\t1 & 16.99 & 1.01 & Female & No & Sun & Dinner & 2\\\\\n",
       "\t2 & 10.34 & 1.66 & Male   & No & Sun & Dinner & 3\\\\\n",
       "\t3 & 21.01 & 3.50 & Male   & No & Sun & Dinner & 3\\\\\n",
       "\t4 & 23.68 & 3.31 & Male   & No & Sun & Dinner & 2\\\\\n",
       "\t5 & 24.59 & 3.61 & Female & No & Sun & Dinner & 4\\\\\n",
       "\t6 & 25.29 & 4.71 & Male   & No & Sun & Dinner & 4\\\\\n",
       "\\end{tabular}\n"
      ],
      "text/markdown": [
       "\n",
       "A data.frame: 6 × 7\n",
       "\n",
       "| <!--/--> | total_bill &lt;dbl&gt; | tip &lt;dbl&gt; | sex &lt;chr&gt; | smoker &lt;chr&gt; | day &lt;chr&gt; | time &lt;chr&gt; | size &lt;int&gt; |\n",
       "|---|---|---|---|---|---|---|---|\n",
       "| 1 | 16.99 | 1.01 | Female | No | Sun | Dinner | 2 |\n",
       "| 2 | 10.34 | 1.66 | Male   | No | Sun | Dinner | 3 |\n",
       "| 3 | 21.01 | 3.50 | Male   | No | Sun | Dinner | 3 |\n",
       "| 4 | 23.68 | 3.31 | Male   | No | Sun | Dinner | 2 |\n",
       "| 5 | 24.59 | 3.61 | Female | No | Sun | Dinner | 4 |\n",
       "| 6 | 25.29 | 4.71 | Male   | No | Sun | Dinner | 4 |\n",
       "\n"
      ],
      "text/plain": [
       "  total_bill tip  sex    smoker day time   size\n",
       "1 16.99      1.01 Female No     Sun Dinner 2   \n",
       "2 10.34      1.66 Male   No     Sun Dinner 3   \n",
       "3 21.01      3.50 Male   No     Sun Dinner 3   \n",
       "4 23.68      3.31 Male   No     Sun Dinner 2   \n",
       "5 24.59      3.61 Female No     Sun Dinner 4   \n",
       "6 25.29      4.71 Male   No     Sun Dinner 4   "
      ]
     },
     "metadata": {},
     "output_type": "display_data"
    }
   ],
   "source": [
    "#Read data using reproducible code and from non-local file\n",
    "tips_df <- read.csv(\"https://raw.githubusercontent.com/gracieS02/tips-2/refs/heads/main/tips.csv\")\n",
    "head(tips)"
   ]
  },
  {
   "cell_type": "markdown",
   "id": "d1c36193-3ac2-4aa2-a270-5ad63bc33d6f",
   "metadata": {},
   "source": [
    "### Dataset summary"
   ]
  },
  {
   "cell_type": "code",
   "execution_count": 20,
   "id": "63e66c59-41c7-462c-94a2-9354253b4e8f",
   "metadata": {},
   "outputs": [
    {
     "data": {
      "text/html": [
       "<table class=\"dataframe\">\n",
       "<caption>A data.frame: 7 × 3</caption>\n",
       "<thead>\n",
       "\t<tr><th scope=col>Variable</th><th scope=col>Type</th><th scope=col>Description</th></tr>\n",
       "\t<tr><th scope=col>&lt;chr&gt;</th><th scope=col>&lt;chr&gt;</th><th scope=col>&lt;chr&gt;</th></tr>\n",
       "</thead>\n",
       "<tbody>\n",
       "\t<tr><td>total_bill</td><td>Numeric (float)            </td><td>Total bill amount (in USD)                </td></tr>\n",
       "\t<tr><td>tip       </td><td>Numeric (float)            </td><td>Tip amount (in USD)                       </td></tr>\n",
       "\t<tr><td>sex       </td><td>Categorical (string,binary)</td><td>Sex of the customer (Male/Female)         </td></tr>\n",
       "\t<tr><td>smoker    </td><td>Categorical (string,binary)</td><td>Whether the customer is a smoker (Yes/No) </td></tr>\n",
       "\t<tr><td>day       </td><td>Categorical (string)       </td><td>Day of the week (Thur, Fri, Sat, Sun)     </td></tr>\n",
       "\t<tr><td>time      </td><td>Categorical (string,binary)</td><td>Meal type (Lunch/Dinner)                  </td></tr>\n",
       "\t<tr><td>size      </td><td>Numeric (integer)          </td><td>Number of people in the dining party (1-6)</td></tr>\n",
       "</tbody>\n",
       "</table>\n"
      ],
      "text/latex": [
       "A data.frame: 7 × 3\n",
       "\\begin{tabular}{lll}\n",
       " Variable & Type & Description\\\\\n",
       " <chr> & <chr> & <chr>\\\\\n",
       "\\hline\n",
       "\t total\\_bill & Numeric (float)             & Total bill amount (in USD)                \\\\\n",
       "\t tip        & Numeric (float)             & Tip amount (in USD)                       \\\\\n",
       "\t sex        & Categorical (string,binary) & Sex of the customer (Male/Female)         \\\\\n",
       "\t smoker     & Categorical (string,binary) & Whether the customer is a smoker (Yes/No) \\\\\n",
       "\t day        & Categorical (string)        & Day of the week (Thur, Fri, Sat, Sun)     \\\\\n",
       "\t time       & Categorical (string,binary) & Meal type (Lunch/Dinner)                  \\\\\n",
       "\t size       & Numeric (integer)           & Number of people in the dining party (1-6)\\\\\n",
       "\\end{tabular}\n"
      ],
      "text/markdown": [
       "\n",
       "A data.frame: 7 × 3\n",
       "\n",
       "| Variable &lt;chr&gt; | Type &lt;chr&gt; | Description &lt;chr&gt; |\n",
       "|---|---|---|\n",
       "| total_bill | Numeric (float)             | Total bill amount (in USD)                 |\n",
       "| tip        | Numeric (float)             | Tip amount (in USD)                        |\n",
       "| sex        | Categorical (string,binary) | Sex of the customer (Male/Female)          |\n",
       "| smoker     | Categorical (string,binary) | Whether the customer is a smoker (Yes/No)  |\n",
       "| day        | Categorical (string)        | Day of the week (Thur, Fri, Sat, Sun)      |\n",
       "| time       | Categorical (string,binary) | Meal type (Lunch/Dinner)                   |\n",
       "| size       | Numeric (integer)           | Number of people in the dining party (1-6) |\n",
       "\n"
      ],
      "text/plain": [
       "  Variable   Type                       \n",
       "1 total_bill Numeric (float)            \n",
       "2 tip        Numeric (float)            \n",
       "3 sex        Categorical (string,binary)\n",
       "4 smoker     Categorical (string,binary)\n",
       "5 day        Categorical (string)       \n",
       "6 time       Categorical (string,binary)\n",
       "7 size       Numeric (integer)          \n",
       "  Description                               \n",
       "1 Total bill amount (in USD)                \n",
       "2 Tip amount (in USD)                       \n",
       "3 Sex of the customer (Male/Female)         \n",
       "4 Whether the customer is a smoker (Yes/No) \n",
       "5 Day of the week (Thur, Fri, Sat, Sun)     \n",
       "6 Meal type (Lunch/Dinner)                  \n",
       "7 Number of people in the dining party (1-6)"
      ]
     },
     "metadata": {},
     "output_type": "display_data"
    }
   ],
   "source": [
    "#using table to understand variable's type with description. \n",
    "library(knitr)\n",
    "\n",
    "data <- data.frame(\n",
    "  Variable = c(\"total_bill\", \"tip\", \"sex\", \"smoker\", \"day\", \"time\", \"size\"),\n",
    "  Type = c(\"Numeric (float)\", \"Numeric (float)\", \"Categorical (string,binary)\", \"Categorical (string,binary)\", \n",
    "           \"Categorical (string)\", \"Categorical (string,binary)\", \"Numeric (integer)\"),\n",
    "  Description = c(\"Total bill amount (in USD)\", \"Tip amount (in USD)\", \"Sex of the customer (Male/Female)\",\n",
    "                  \"Whether the customer is a smoker (Yes/No)\", \"Day of the week (Thur, Fri, Sat, Sun)\",\n",
    "                  \"Meal type (Lunch/Dinner)\", \"Number of people in the dining party (1-6)\")\n",
    ")\n",
    "\n",
    "# kable(data, format = \"markdown\")\n",
    "data"
   ]
  },
  {
   "cell_type": "markdown",
   "id": "cafad473-036f-410b-a593-9a12eb885b73",
   "metadata": {},
   "source": [
    "### citation\n",
    "Badole, S. (2021, September). Restaurant Tips Dataset. Kaggle. https://www.kaggle.com/datasets/saurabhbadole/restaurant-tips-dataset"
   ]
  },
  {
   "cell_type": "markdown",
   "id": "a8dcd4cb-69da-4e71-96a3-7465a40e1c0c",
   "metadata": {},
   "source": [
    "According to the dataset documentation, there are no missing or invalid values. A preliminary check also confirms that the data is clean and tidy. No variables need to be dropped. All the variables seems to be valuable to analyze in this stage.\n",
    "\n",
    "The data is observational, since there is no control over variables. As the author mentioned:\"the data in this dataset has been collected from a restaurant over a period of time. Each entry represents a unique transaction, capturing details about the bill amount, tip given, the gender of the person paying, smoking preference, day of the week, time of day, and the size of the dining party\"."
   ]
  },
  {
   "cell_type": "code",
   "execution_count": null,
   "id": "f0b336b0-a869-4d66-b21b-e05a367e4d93",
   "metadata": {},
   "outputs": [],
   "source": []
  },
  {
   "cell_type": "code",
   "execution_count": null,
   "id": "79fa9fea-5809-4eca-8bf6-44ef01f994b5",
   "metadata": {},
   "outputs": [],
   "source": []
  },
  {
   "cell_type": "code",
   "execution_count": null,
   "id": "8c8c7874-7169-4454-91f3-88e21c898b11",
   "metadata": {},
   "outputs": [],
   "source": []
  }
 ],
 "metadata": {
  "kernelspec": {
   "display_name": "R",
   "language": "R",
   "name": "ir"
  },
  "language_info": {
   "codemirror_mode": "r",
   "file_extension": ".r",
   "mimetype": "text/x-r-source",
   "name": "R",
   "pygments_lexer": "r",
   "version": "4.3.3"
  }
 },
 "nbformat": 4,
 "nbformat_minor": 5
}
