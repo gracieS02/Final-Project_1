{
 "cells": [
  {
   "cell_type": "markdown",
   "id": "dc44fc06-c118-40cb-acb5-6ed64fdef420",
   "metadata": {},
   "source": [
    "### Final Project"
   ]
  },
  {
   "cell_type": "code",
   "execution_count": null,
   "id": "ca31630d-f3ff-4ca4-9fad-c31ad3da85b9",
   "metadata": {},
   "outputs": [],
   "source": [
    "##"
   ]
  },
  {
   "cell_type": "code",
   "execution_count": null,
   "id": "8dd5c4bd-c0ee-4c49-918d-4c49fabe6d10",
   "metadata": {},
   "outputs": [],
   "source": [
    "##jj4j3j3"
   ]
  },
  {
   "cell_type": "code",
   "execution_count": null,
   "id": "3659c8b9-0cc7-42ae-882a-2fe6772e63c0",
   "metadata": {},
   "outputs": [],
   "source": []
  }
 ],
 "metadata": {
  "kernelspec": {
   "display_name": "R",
   "language": "R",
   "name": "ir"
  },
  "language_info": {
   "codemirror_mode": "r",
   "file_extension": ".r",
   "mimetype": "text/x-r-source",
   "name": "R",
   "pygments_lexer": "r",
   "version": "4.3.3"
  }
 },
 "nbformat": 4,
 "nbformat_minor": 5
}
